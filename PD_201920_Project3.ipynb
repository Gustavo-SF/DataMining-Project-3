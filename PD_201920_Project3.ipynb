{
 "cells": [
  {
   "cell_type": "markdown",
   "metadata": {},
   "source": [
    "# Data Mining / Prospecção de Dados\n",
    "\n",
    "## Sara C. Madeira, 2019/20\n",
    "\n",
    "# Project 3 - Classification/Regression"
   ]
  },
  {
   "cell_type": "markdown",
   "metadata": {},
   "source": [
    "## Logistics\n",
    "\n",
    "**In a \"normal\" scenario students should work in teams of 2 people. Due to the social distance imposed by current public health situation, students were allowed to work in groups of 1 and 3. In this context, the amount of work was adapted according to the number of students in groups as described below.**\n",
    "\n",
    "* Tasks **1 to 4** should be done by **all** groups **BUT**\n",
    "    * In Tasks **2 and 3** the number of classifiers/regressors to use is **`X` = 2, 3 and 4**  for groups of 1, 2 and 3 students, respectively.\n",
    "    * In Task **4**, groups of 1, 2 and 3 students should try 1, 2 and 3 ensemble approaches, respectively.\n",
    "\n",
    "The quality of the project will then dictate its grade.\n",
    "\n",
    "**The project's solution should be uploaded in Moodle before the end of June, 9th 2020 (23:59).** \n",
    "\n",
    "**It is mandatory to produce a Jupyter notebook containing code and text/images/tables/etc describing the solution and the results. Projects not delivered in this format will not be graded. Note that you can use `PD_201920_Project3.ipynb`as template.**\n",
    "\n",
    "Students should **upload a `.zip` file** containing all the files necessary for project evaluation. \n",
    "\n",
    "**Decisions should be justified and results should be critically discussed.**"
   ]
  },
  {
   "cell_type": "markdown",
   "metadata": {},
   "source": [
    "## Dataset and Tools\n",
    "\n",
    "In this project you should use [Python 3](https://www.python.org), [Jupyter Notebook](http://jupyter.org) and **[Scikit-learn](http://scikit-learn.org/stable/). You are also allowed to use [Orange3](https://orange.biolab.si).**\n",
    "\n",
    "The dataset to be analysed is **`ModifiedHousePrices.csv`**, a modified version of the train dataset used in Kaggle's competition [\"House Prices: Advanced Regression Techniques\"](https://www.kaggle.com/c/house-prices-advanced-regression-techniques/overview). \n",
    "\n",
    "If you ask a home buyer to describe their dream house, they probably won't begin with the height of the basement ceiling or the proximity to an east-west railroad. But this playground competition's dataset proves that much more influences price negotiations than the number of bedrooms or a white-picket fence. With more than 70 explanatory variables describing (almost) every aspect of residential homes in Ames, Iowa, this competition challenges you to predict the final price of each home.\n",
    "\n",
    "**This project challenges you twice** by asking you to tackle a\n",
    "1. **Regression Task**: predict the price, and a\n",
    "2. **Classification Task**: predict a price category.\n",
    "\n",
    "The variables are described [here](https://www.kaggle.com/c/house-prices-advanced-regression-techniques/data).\n",
    "\n",
    "The targets are:\n",
    "1. `SalePrice` - the property's sale price in dollars. This is the target variable that you're trying to predict in the regression task (same as in the Kaggle challenge).\n",
    "2. `Price3Classes` - the price category, where price can be below 200000 (\"<200000\"), between 200000 and 400000 (\"[200000,400000]\"), or above 200000 (\">200000\"). This is the target variable that you're trying to predict in the classification task. "
   ]
  },
  {
   "cell_type": "markdown",
   "metadata": {},
   "source": [
    "# 0. Imports"
   ]
  },
  {
   "cell_type": "code",
   "execution_count": 1,
   "metadata": {},
   "outputs": [
    {
     "name": "stderr",
     "output_type": "stream",
     "text": [
      "Using TensorFlow backend.\n"
     ]
    }
   ],
   "source": [
    "import pandas as pd\n",
    "import numpy as np\n",
    "import seaborn as sns\n",
    "from matplotlib import pyplot as plt\n",
    "from sklearn.preprocessing import OneHotEncoder, LabelEncoder\n",
    "from sklearn.ensemble import RandomForestRegressor, RandomForestClassifier\n",
    "from sklearn.feature_selection import SelectFromModel\n",
    "#import smogn\n",
    "import os\n",
    "from imblearn.combine import SMOTETomek\n",
    "from scipy import stats\n",
    "from scipy.stats import norm"
   ]
  },
  {
   "cell_type": "markdown",
   "metadata": {},
   "source": [
    "## 1. Load and Preprocess Dataset"
   ]
  },
  {
   "cell_type": "markdown",
   "metadata": {},
   "source": [
    "Here you might consider useful to think about:\n",
    "1. Missing Value Imputation\n",
    "2. Feature Selection\n",
    "3. Class Imbalance"
   ]
  },
  {
   "cell_type": "code",
   "execution_count": 2,
   "metadata": {},
   "outputs": [
    {
     "data": {
      "text/plain": [
       "(1460, 82)"
      ]
     },
     "execution_count": 2,
     "metadata": {},
     "output_type": "execute_result"
    }
   ],
   "source": [
    "df_data = pd.read_csv('data/ModifiedHousePrices.csv')\n",
    "df_data.shape"
   ]
  },
  {
   "cell_type": "code",
   "execution_count": 3,
   "metadata": {},
   "outputs": [
    {
     "data": {
      "text/html": [
       "<div>\n",
       "<style scoped>\n",
       "    .dataframe tbody tr th:only-of-type {\n",
       "        vertical-align: middle;\n",
       "    }\n",
       "\n",
       "    .dataframe tbody tr th {\n",
       "        vertical-align: top;\n",
       "    }\n",
       "\n",
       "    .dataframe thead th {\n",
       "        text-align: right;\n",
       "    }\n",
       "</style>\n",
       "<table border=\"1\" class=\"dataframe\">\n",
       "  <thead>\n",
       "    <tr style=\"text-align: right;\">\n",
       "      <th></th>\n",
       "      <th>Id</th>\n",
       "      <th>MSSubClass</th>\n",
       "      <th>MSZoning</th>\n",
       "      <th>LotFrontage</th>\n",
       "      <th>LotArea</th>\n",
       "      <th>Street</th>\n",
       "      <th>Alley</th>\n",
       "      <th>LotShape</th>\n",
       "      <th>LandContour</th>\n",
       "      <th>Utilities</th>\n",
       "      <th>...</th>\n",
       "      <th>PoolQC</th>\n",
       "      <th>Fence</th>\n",
       "      <th>MiscFeature</th>\n",
       "      <th>MiscVal</th>\n",
       "      <th>MoSold</th>\n",
       "      <th>YrSold</th>\n",
       "      <th>SaleType</th>\n",
       "      <th>SaleCondition</th>\n",
       "      <th>SalePrice</th>\n",
       "      <th>Price3Classes</th>\n",
       "    </tr>\n",
       "  </thead>\n",
       "  <tbody>\n",
       "    <tr>\n",
       "      <th>0</th>\n",
       "      <td>1</td>\n",
       "      <td>60</td>\n",
       "      <td>RL</td>\n",
       "      <td>65.0</td>\n",
       "      <td>8450</td>\n",
       "      <td>Pave</td>\n",
       "      <td>NaN</td>\n",
       "      <td>Reg</td>\n",
       "      <td>Lvl</td>\n",
       "      <td>AllPub</td>\n",
       "      <td>...</td>\n",
       "      <td>NaN</td>\n",
       "      <td>NaN</td>\n",
       "      <td>NaN</td>\n",
       "      <td>0</td>\n",
       "      <td>2</td>\n",
       "      <td>2008</td>\n",
       "      <td>WD</td>\n",
       "      <td>Normal</td>\n",
       "      <td>208500</td>\n",
       "      <td>[200000,400000]</td>\n",
       "    </tr>\n",
       "    <tr>\n",
       "      <th>1</th>\n",
       "      <td>2</td>\n",
       "      <td>20</td>\n",
       "      <td>RL</td>\n",
       "      <td>80.0</td>\n",
       "      <td>9600</td>\n",
       "      <td>Pave</td>\n",
       "      <td>NaN</td>\n",
       "      <td>Reg</td>\n",
       "      <td>Lvl</td>\n",
       "      <td>AllPub</td>\n",
       "      <td>...</td>\n",
       "      <td>NaN</td>\n",
       "      <td>NaN</td>\n",
       "      <td>NaN</td>\n",
       "      <td>0</td>\n",
       "      <td>5</td>\n",
       "      <td>2007</td>\n",
       "      <td>WD</td>\n",
       "      <td>Normal</td>\n",
       "      <td>181500</td>\n",
       "      <td>&lt;200000</td>\n",
       "    </tr>\n",
       "    <tr>\n",
       "      <th>2</th>\n",
       "      <td>3</td>\n",
       "      <td>60</td>\n",
       "      <td>RL</td>\n",
       "      <td>68.0</td>\n",
       "      <td>11250</td>\n",
       "      <td>Pave</td>\n",
       "      <td>NaN</td>\n",
       "      <td>IR1</td>\n",
       "      <td>Lvl</td>\n",
       "      <td>AllPub</td>\n",
       "      <td>...</td>\n",
       "      <td>NaN</td>\n",
       "      <td>NaN</td>\n",
       "      <td>NaN</td>\n",
       "      <td>0</td>\n",
       "      <td>9</td>\n",
       "      <td>2008</td>\n",
       "      <td>WD</td>\n",
       "      <td>Normal</td>\n",
       "      <td>223500</td>\n",
       "      <td>[200000,400000]</td>\n",
       "    </tr>\n",
       "    <tr>\n",
       "      <th>3</th>\n",
       "      <td>4</td>\n",
       "      <td>70</td>\n",
       "      <td>RL</td>\n",
       "      <td>60.0</td>\n",
       "      <td>9550</td>\n",
       "      <td>Pave</td>\n",
       "      <td>NaN</td>\n",
       "      <td>IR1</td>\n",
       "      <td>Lvl</td>\n",
       "      <td>AllPub</td>\n",
       "      <td>...</td>\n",
       "      <td>NaN</td>\n",
       "      <td>NaN</td>\n",
       "      <td>NaN</td>\n",
       "      <td>0</td>\n",
       "      <td>2</td>\n",
       "      <td>2006</td>\n",
       "      <td>WD</td>\n",
       "      <td>Abnorml</td>\n",
       "      <td>140000</td>\n",
       "      <td>&lt;200000</td>\n",
       "    </tr>\n",
       "    <tr>\n",
       "      <th>4</th>\n",
       "      <td>5</td>\n",
       "      <td>60</td>\n",
       "      <td>RL</td>\n",
       "      <td>84.0</td>\n",
       "      <td>14260</td>\n",
       "      <td>Pave</td>\n",
       "      <td>NaN</td>\n",
       "      <td>IR1</td>\n",
       "      <td>Lvl</td>\n",
       "      <td>AllPub</td>\n",
       "      <td>...</td>\n",
       "      <td>NaN</td>\n",
       "      <td>NaN</td>\n",
       "      <td>NaN</td>\n",
       "      <td>0</td>\n",
       "      <td>12</td>\n",
       "      <td>2008</td>\n",
       "      <td>WD</td>\n",
       "      <td>Normal</td>\n",
       "      <td>250000</td>\n",
       "      <td>[200000,400000]</td>\n",
       "    </tr>\n",
       "  </tbody>\n",
       "</table>\n",
       "<p>5 rows × 82 columns</p>\n",
       "</div>"
      ],
      "text/plain": [
       "   Id  MSSubClass MSZoning  LotFrontage  LotArea Street Alley LotShape  \\\n",
       "0   1          60       RL         65.0     8450   Pave   NaN      Reg   \n",
       "1   2          20       RL         80.0     9600   Pave   NaN      Reg   \n",
       "2   3          60       RL         68.0    11250   Pave   NaN      IR1   \n",
       "3   4          70       RL         60.0     9550   Pave   NaN      IR1   \n",
       "4   5          60       RL         84.0    14260   Pave   NaN      IR1   \n",
       "\n",
       "  LandContour Utilities  ... PoolQC Fence MiscFeature MiscVal MoSold YrSold  \\\n",
       "0         Lvl    AllPub  ...    NaN   NaN         NaN       0      2   2008   \n",
       "1         Lvl    AllPub  ...    NaN   NaN         NaN       0      5   2007   \n",
       "2         Lvl    AllPub  ...    NaN   NaN         NaN       0      9   2008   \n",
       "3         Lvl    AllPub  ...    NaN   NaN         NaN       0      2   2006   \n",
       "4         Lvl    AllPub  ...    NaN   NaN         NaN       0     12   2008   \n",
       "\n",
       "  SaleType  SaleCondition  SalePrice    Price3Classes  \n",
       "0       WD         Normal     208500  [200000,400000]  \n",
       "1       WD         Normal     181500          <200000  \n",
       "2       WD         Normal     223500  [200000,400000]  \n",
       "3       WD        Abnorml     140000          <200000  \n",
       "4       WD         Normal     250000  [200000,400000]  \n",
       "\n",
       "[5 rows x 82 columns]"
      ]
     },
     "execution_count": 3,
     "metadata": {},
     "output_type": "execute_result"
    }
   ],
   "source": [
    "df_data.head(5)"
   ]
  },
  {
   "cell_type": "markdown",
   "metadata": {},
   "source": [
    "## 1.1. Exploratory Data Analysis"
   ]
  },
  {
   "cell_type": "markdown",
   "metadata": {},
   "source": [
    "### 1.1.1 Continuous Variable - SalePrice"
   ]
  },
  {
   "cell_type": "code",
   "execution_count": 4,
   "metadata": {},
   "outputs": [
    {
     "data": {
      "text/plain": [
       "Text(0.5, 0, 'Price')"
      ]
     },
     "execution_count": 4,
     "metadata": {},
     "output_type": "execute_result"
    },
    {
     "data": {
      "image/png": "[encoded data removed]",
      "text/plain": [
       "<Figure size 432x288 with 1 Axes>"
      ]
     },
     "metadata": {
      "needs_background": "light"
     },
     "output_type": "display_data"
    }
   ],
   "source": [
    "sns.kdeplot(df_data['SalePrice'], shade=True)\n",
    "plt.legend(['Proportion'])\n",
    "plt.ylabel('Proportion')\n",
    "plt.xlabel('Price')"
   ]
  },
  {
   "cell_type": "markdown",
   "metadata": {},
   "source": [
    "### 1.1.2. Categorical Variable - Price3Classes"
   ]
  },
  {
   "cell_type": "code",
   "execution_count": 5,
   "metadata": {},
   "outputs": [
    {
     "data": {
      "text/plain": [
       "<matplotlib.axes._subplots.AxesSubplot at 0x18f29919f48>"
      ]
     },
     "execution_count": 5,
     "metadata": {},
     "output_type": "execute_result"
    },
    {
     "data": {
      "image/png": "[encoded data removed]",
      "text/plain": [
       "<Figure size 432x288 with 1 Axes>"
      ]
     },
     "metadata": {
      "needs_background": "light"
     },
     "output_type": "display_data"
    }
   ],
   "source": [
    "df_data.Price3Classes.value_counts().sort_values().plot(kind = 'barh')"
   ]
  },
  {
   "cell_type": "markdown",
   "metadata": {},
   "source": [
    "We can see that we have an unbalanced dataset for the classification task."
   ]
  },
  {
   "cell_type": "markdown",
   "metadata": {},
   "source": [
    "### 1.1.3. Feature Exploration"
   ]
  },
  {
   "cell_type": "markdown",
   "metadata": {},
   "source": [
    "Bellow we will define two vectors that saves the categorical and continuous variables that we identified by analysing the dataset. "
   ]
  },
  {
   "cell_type": "code",
   "execution_count": 6,
   "metadata": {},
   "outputs": [],
   "source": [
    "cat_var = [\n",
    "    'MSSubClass',\n",
    "    'MSZoning',\n",
    "    'Street',\n",
    "    'Alley',\n",
    "    'LotShape',\n",
    "    'LandContour',\n",
    "    'Utilities',\n",
    "    'LotConfig',\n",
    "    'LandSlope',\n",
    "    'Neighborhood',\n",
    "    'Condition1',\n",
    "    'Condition2',\n",
    "    'BldgType',\n",
    "    'HouseStyle',\n",
    "    'RoofStyle',\n",
    "    'RoofMatl',\n",
    "    'Exterior1st',\n",
    "    'Exterior2nd',\n",
    "    'MasVnrType',\n",
    "    'ExterQual',\n",
    "    'ExterCond',\n",
    "    'Foundation',\n",
    "    'BsmtQual',\n",
    "    'BsmtCond',\n",
    "    'BsmtExposure',\n",
    "    'BsmtFinType1',\n",
    "    'BsmtFinType2',\n",
    "    'Heating',\n",
    "    'HeatingQC',\n",
    "    'CentralAir',\n",
    "    'Electrical',\n",
    "    'KitchenQual',\n",
    "    'Functional',\n",
    "    'FireplaceQu',\n",
    "    'GarageType',\n",
    "    'GarageFinish',\n",
    "    'GarageQual',\n",
    "    'GarageCond',\n",
    "    'PavedDrive',\n",
    "    'PoolQC',\n",
    "    'Fence',\n",
    "    'MiscFeature',\n",
    "    'MoSold',\n",
    "    'SaleType',\n",
    "    'SaleCondition'\n",
    "]\n",
    "\n",
    "num_var = [\n",
    "    'LotFrontage',\n",
    "    'LotArea',\n",
    "    'OverallQual',\n",
    "    'OverallCond',\n",
    "    'YearBuilt',\n",
    "    'YearRemodAdd',\n",
    "    'MasVnrArea',\n",
    "    'BsmtFinSF1',\n",
    "    'BsmtFinSF2',\n",
    "    'BsmtUnfSF',\n",
    "    'TotalBsmtSF',\n",
    "    '1stFlrSF',\n",
    "    '2ndFlrSF',\n",
    "    'LowQualFinSF',\n",
    "    'GrLivArea',\n",
    "    'BsmtFullBath',\n",
    "    'BsmtHalfBath',\n",
    "    'FullBath',\n",
    "    'HalfBath',\n",
    "    'BedroomAbvGr',\n",
    "    'KitchenAbvGr',\n",
    "    'TotRmsAbvGrd',\n",
    "    'Fireplaces',\n",
    "    'GarageYrBlt',    \n",
    "    'GarageCars',\n",
    "    'GarageArea',\n",
    "    'WoodDeckSF',\n",
    "    'OpenPorchSF',\n",
    "    'EnclosedPorch',\n",
    "    '3SsnPorch',\n",
    "    'ScreenPorch',\n",
    "    'PoolArea',\n",
    "    'MiscVal',\n",
    "    'YrSold',\n",
    "]"
   ]
  },
  {
   "cell_type": "markdown",
   "metadata": {},
   "source": [
    "Now lets create a dataframe with information about the columns of the dataset. The dataframe have the following columns:\n",
    "\n",
    "+ column: indicates the columns name;\n",
    "+ type: indicates if the column is categorical or continuous\n",
    "* data_type: the data type of the column;\n",
    "* max: if the column is a continuous variable, the maximum of that column;\n",
    "* min: if the column is a continuous variable, the minimum of that column;\n",
    "* mean: if the column is a continuous variable, the mean of that column;\n",
    "* std: if the column is a continuous variable, the standard deviation of that column;\n",
    "* nulls_count: the number of records with that column being null;\n",
    "* nulls_percentage: the percentage of nulls of that column;\n",
    "* unique_count: the number of unique rows;\n",
    "* zero_count: the number of records with zero."
   ]
  },
  {
   "cell_type": "code",
   "execution_count": 7,
   "metadata": {},
   "outputs": [],
   "source": [
    "all_columns = cat_var + num_var\n",
    "template_df = list()\n",
    "\n",
    "df_var_columns = [\n",
    "    'column',\n",
    "    'type',\n",
    "    'data_type',\n",
    "    'max',\n",
    "    'min',\n",
    "    'mean',\n",
    "    'std',\n",
    "    'nulls_count',\n",
    "    'nulls_percentage',\n",
    "    'unique_count',\n",
    "    'zero_count',\n",
    "]\n",
    "\n",
    "for s in all_columns:\n",
    "    template_df.append([s]+['']*(len(df_var_columns)-1))\n",
    "\n",
    "df_variables_info = pd.DataFrame(template_df, columns=df_var_columns).set_index('column')"
   ]
  },
  {
   "cell_type": "code",
   "execution_count": 8,
   "metadata": {},
   "outputs": [],
   "source": [
    "empty_df = []\n",
    "total_rows = len(df_data)\n",
    "\n",
    "for s in df_data.loc[:,'MSSubClass':'SaleCondition'].columns:\n",
    "\n",
    "    nullable_values = len(df_data[s][df_data[s].isnull()])\n",
    "    df_variables_info.loc[s, 'nulls_count'] = nullable_values\n",
    "    df_variables_info.loc[s, 'nulls_percentage'] = (nullable_values/total_rows) * 100\n",
    "    df_variables_info.loc[s, 'data_type'] = df_data[s].dtype\n",
    "    df_variables_info.loc[s, 'unique_count'] = len(df_data[s].unique())\n",
    "    #add column zero_count for features with dtype int64 or float64\n",
    "    if (df_data[s].dtype == np.int64) | (df_data[s].dtype == np.float64) : \n",
    "        df_variables_info.loc[s, 'zero_count'] = len(df_data[df_data[s] == 0])\n",
    "    if s in cat_var: df_variables_info.loc[s, 'type'] = 'categorical'\n",
    "    elif s in num_var: \n",
    "        df_variables_info.loc[s, 'type'] = 'numerical'\n",
    "        df_describe = df_data[s].describe().to_frame()\n",
    "        df_variables_info.loc[s, 'mean'] = df_describe.loc['mean',s]\n",
    "        df_variables_info.loc[s, 'std'] = df_describe.loc['std',s]\n",
    "        df_variables_info.loc[s, 'min'] = df_describe.loc['min',s]\n",
    "        df_variables_info.loc[s, 'max'] = df_describe.loc['max',s]\n",
    "df_variables_info = df_variables_info.reset_index()"
   ]
  },
  {
   "cell_type": "markdown",
   "metadata": {},
   "source": [
    "Now lets do some analysis based on the dataframe defined above."
   ]
  },
  {
   "cell_type": "markdown",
   "metadata": {},
   "source": [
    "Lets explore the type of features that the dataset has."
   ]
  },
  {
   "cell_type": "code",
   "execution_count": 9,
   "metadata": {},
   "outputs": [
    {
     "data": {
      "text/plain": [
       "Text(0.5, 1.0, 'Types of columns')"
      ]
     },
     "execution_count": 9,
     "metadata": {},
     "output_type": "execute_result"
    },
    {
     "data": {
      "image/png": "[encoded data removed]",
      "text/plain": [
       "<Figure size 432x288 with 1 Axes>"
      ]
     },
     "metadata": {
      "needs_background": "light"
     },
     "output_type": "display_data"
    }
   ],
   "source": [
    "df_graph = df_variables_info.groupby('type').size().to_frame('count').reset_index()\n",
    "sns.barplot(x='type',y='count', data = df_graph)\n",
    "plt.title('Types of columns')"
   ]
  },
  {
   "cell_type": "markdown",
   "metadata": {},
   "source": [
    "We can see that we have more categorical columns than numerical."
   ]
  },
  {
   "cell_type": "markdown",
   "metadata": {},
   "source": [
    "Now lets plot the percentage of nulls for each column"
   ]
  },
  {
   "cell_type": "code",
   "execution_count": 10,
   "metadata": {},
   "outputs": [
    {
     "data": {
      "text/plain": [
       "(array([ 0,  1,  2,  3,  4,  5,  6,  7,  8,  9, 10, 11, 12, 13, 14, 15, 16,\n",
       "        17, 18]),\n",
       " <a list of 19 Text xticklabel objects>)"
      ]
     },
     "execution_count": 10,
     "metadata": {},
     "output_type": "execute_result"
    },
    {
     "data": {
      "image/png": "[encoded data removed]",
      "text/plain": [
       "<Figure size 720x360 with 1 Axes>"
      ]
     },
     "metadata": {
      "needs_background": "light"
     },
     "output_type": "display_data"
    }
   ],
   "source": [
    "#get just columns with null values\n",
    "df_graph = df_variables_info[df_variables_info['nulls_percentage']> 0].sort_values('nulls_percentage',ascending = False)\n",
    "#plot them\n",
    "plt.figure(figsize=(10,5))\n",
    "sns.barplot(x='column', y = 'nulls_percentage', hue='type', data = df_graph)\n",
    "plt.title('Percentage of nulls by column')\n",
    "plt.xticks(rotation=90)"
   ]
  },
  {
   "cell_type": "markdown",
   "metadata": {},
   "source": [
    "We can see that we have 5 categorical columns with with more than 50% of nulls, and just 3 continuous features with missing values."
   ]
  },
  {
   "cell_type": "markdown",
   "metadata": {},
   "source": [
    "Now lets analyse the amount of zeros by continuous column"
   ]
  },
  {
   "cell_type": "code",
   "execution_count": 11,
   "metadata": {},
   "outputs": [
    {
     "name": "stderr",
     "output_type": "stream",
     "text": [
      "C:\\Users\\joao_\\Anaconda3\\lib\\site-packages\\ipykernel_launcher.py:2: SettingWithCopyWarning: \n",
      "A value is trying to be set on a copy of a slice from a DataFrame.\n",
      "Try using .loc[row_indexer,col_indexer] = value instead\n",
      "\n",
      "See the caveats in the documentation: http://pandas.pydata.org/pandas-docs/stable/user_guide/indexing.html#returning-a-view-versus-a-copy\n",
      "  \n"
     ]
    },
    {
     "data": {
      "text/plain": [
       "(array([ 0,  1,  2,  3,  4,  5,  6,  7,  8,  9, 10, 11, 12, 13, 14, 15, 16,\n",
       "        17, 18, 19, 20, 21, 22]),\n",
       " <a list of 23 Text xticklabel objects>)"
      ]
     },
     "execution_count": 11,
     "metadata": {},
     "output_type": "execute_result"
    },
    {
     "data": {
      "image/png": "[encoded data removed]",
      "text/plain": [
       "<Figure size 720x360 with 1 Axes>"
      ]
     },
     "metadata": {
      "needs_background": "light"
     },
     "output_type": "display_data"
    }
   ],
   "source": [
    "df_graph = df_variables_info[(df_variables_info['type'] == 'numerical') & (~df_variables_info['zero_count'].isnull())]\n",
    "df_graph['zero_count'] = df_graph['zero_count'].astype(int)\n",
    "df_graph = df_graph[df_graph['zero_count']>0].sort_values('zero_count',ascending = False)\n",
    "plt.figure(figsize=(10,5))\n",
    "sns.barplot(x='column',y='zero_count', data = df_graph)\n",
    "plt.title('Amount of zeros by column')\n",
    "plt.xticks(rotation=45)"
   ]
  },
  {
   "cell_type": "code",
   "execution_count": 12,
   "metadata": {},
   "outputs": [
    {
     "data": {
      "text/plain": [
       "count    1460.000000\n",
       "mean        2.758904\n",
       "std        40.177307\n",
       "min         0.000000\n",
       "25%         0.000000\n",
       "50%         0.000000\n",
       "75%         0.000000\n",
       "max       738.000000\n",
       "Name: PoolArea, dtype: float64"
      ]
     },
     "execution_count": 12,
     "metadata": {},
     "output_type": "execute_result"
    }
   ],
   "source": [
    "df_data['PoolArea'].describe()"
   ]
  },
  {
   "cell_type": "markdown",
   "metadata": {},
   "source": [
    "We have some features with a huge amount of zeros, but we consider that those features could be important in order to describe our target variables (the price of the house). For example, the feature PoolArea have most of his values being zero, but it is useful to describe the price of the houses, because a house with a pool is generally more expensive"
   ]
  },
  {
   "cell_type": "markdown",
   "metadata": {},
   "source": [
    "## 1.2. Missing Values inputation"
   ]
  },
  {
   "cell_type": "markdown",
   "metadata": {},
   "source": [
    "### Continuous features"
   ]
  },
  {
   "cell_type": "markdown",
   "metadata": {},
   "source": [
    "Numerical valued columns with missing values are:\n",
    "+ Linear feet of street connected to property (LotFrontage), with almost 20% of nulls.\n",
    "+ Masonry veneer area in square feet (MasVnrArea), with around 0.5% of nulls, just 8 records.\n",
    "+ Year the garage was built (GarageYrBlt), with around 5.5% of nulls.\n",
    "\n",
    "Bellow we define a function that will be used in order to analyse the feature distribution of that features."
   ]
  },
  {
   "cell_type": "code",
   "execution_count": 13,
   "metadata": {},
   "outputs": [],
   "source": [
    "def feature_dist(df, column_name):\n",
    "    \"\"\"\"\"\"\n",
    "    plt.figure(figsize=(15,4))\n",
    "    sns.distplot(df[column_name] , fit=norm)\n",
    "\n",
    "    # Get the fitted parameters used by the function\n",
    "    (mu, sigma) = norm.fit(df[column_name])\n",
    "    print( '\\n mu = {:.2f} and sigma = {:.2f}\\n'.format(mu, sigma))\n",
    "    plt.legend(['Normal dist. ($\\mu=$ {:.2f} and $\\sigma=$ {:.2f} )'.format(mu, sigma)],\n",
    "                loc='best')\n",
    "    plt.ylabel('Frequency')\n",
    "    plt.title('{} distribution'.format(column_name))\n",
    "    plt.show()"
   ]
  },
  {
   "cell_type": "markdown",
   "metadata": {},
   "source": [
    "Lets analyse the distribution of 'LotFrontage' feature."
   ]
  },
  {
   "cell_type": "code",
   "execution_count": 14,
   "metadata": {},
   "outputs": [
    {
     "name": "stdout",
     "output_type": "stream",
     "text": [
      "Records with missing values: 259\n",
      "\n",
      " mu = 70.05 and sigma = 24.27\n",
      "\n"
     ]
    },
    {
     "data": {
      "image/png": "[encoded data removed]",
      "text/plain": [
       "<Figure size 1080x288 with 1 Axes>"
      ]
     },
     "metadata": {
      "needs_background": "light"
     },
     "output_type": "display_data"
    }
   ],
   "source": [
    "print('Records with missing values: {}'.format(len(df_data[df_data['LotFrontage'].isnull()])))\n",
    "df_graph = df_data[df_data['LotFrontage']>=0]\n",
    "feature_dist(df_graph, 'LotFrontage')"
   ]
  },
  {
   "cell_type": "markdown",
   "metadata": {},
   "source": [
    "By analysing the graph above we can see that the feature distribution is similar to a gaussian distribution, with a mean of 70.05 and a standard deviation of 24.27. Because of that, we decided to impute the mean to the missing values."
   ]
  },
  {
   "cell_type": "code",
   "execution_count": 15,
   "metadata": {},
   "outputs": [],
   "source": [
    "df_lotfrontagenulls = df_data[df_data['LotFrontage'].isnull()]\n",
    "m = df_data['LotFrontage'].mean()\n",
    "for i, r in df_lotfrontagenulls.iterrows():\n",
    "    df_data.loc[i,'LotFrontage'] = m"
   ]
  },
  {
   "cell_type": "markdown",
   "metadata": {},
   "source": [
    "Now lets analyse the distribution of 'MasVnrArea' feature."
   ]
  },
  {
   "cell_type": "code",
   "execution_count": 16,
   "metadata": {},
   "outputs": [
    {
     "name": "stdout",
     "output_type": "stream",
     "text": [
      "Records with missing values: 8\n",
      "\n",
      " mu = 103.69 and sigma = 181.00\n",
      "\n"
     ]
    },
    {
     "data": {
      "image/png": "[encoded data removed]",
      "text/plain": [
       "<Figure size 1080x288 with 1 Axes>"
      ]
     },
     "metadata": {
      "needs_background": "light"
     },
     "output_type": "display_data"
    }
   ],
   "source": [
    "print('Records with missing values: {}'.format(len(df_data[df_data['MasVnrArea'].isnull()])))\n",
    "df_graph = df_data[df_data['MasVnrArea']>=0]\n",
    "feature_dist(df_graph, 'MasVnrArea')"
   ]
  },
  {
   "cell_type": "markdown",
   "metadata": {},
   "source": [
    "We can see that this features does not have a gaussian distribution, so impute the mean could not be a good solution for that feature. By analysing the dataset description in [1], we can see that 'MasVnrArea' is related to 'MasVnrType'. Lets analyse the information that we have about those features."
   ]
  },
  {
   "cell_type": "code",
   "execution_count": 17,
   "metadata": {},
   "outputs": [
    {
     "data": {
      "text/html": [
       "<div>\n",
       "<style scoped>\n",
       "    .dataframe tbody tr th:only-of-type {\n",
       "        vertical-align: middle;\n",
       "    }\n",
       "\n",
       "    .dataframe tbody tr th {\n",
       "        vertical-align: top;\n",
       "    }\n",
       "\n",
       "    .dataframe thead th {\n",
       "        text-align: right;\n",
       "    }\n",
       "</style>\n",
       "<table border=\"1\" class=\"dataframe\">\n",
       "  <thead>\n",
       "    <tr style=\"text-align: right;\">\n",
       "      <th></th>\n",
       "      <th>column</th>\n",
       "      <th>type</th>\n",
       "      <th>data_type</th>\n",
       "      <th>max</th>\n",
       "      <th>min</th>\n",
       "      <th>mean</th>\n",
       "      <th>std</th>\n",
       "      <th>nulls_count</th>\n",
       "      <th>nulls_percentage</th>\n",
       "      <th>unique_count</th>\n",
       "      <th>zero_count</th>\n",
       "    </tr>\n",
       "  </thead>\n",
       "  <tbody>\n",
       "    <tr>\n",
       "      <th>18</th>\n",
       "      <td>MasVnrType</td>\n",
       "      <td>categorical</td>\n",
       "      <td>object</td>\n",
       "      <td></td>\n",
       "      <td></td>\n",
       "      <td></td>\n",
       "      <td></td>\n",
       "      <td>8</td>\n",
       "      <td>0.547945</td>\n",
       "      <td>5</td>\n",
       "      <td></td>\n",
       "    </tr>\n",
       "    <tr>\n",
       "      <th>51</th>\n",
       "      <td>MasVnrArea</td>\n",
       "      <td>numerical</td>\n",
       "      <td>float64</td>\n",
       "      <td>1600</td>\n",
       "      <td>0</td>\n",
       "      <td>103.685</td>\n",
       "      <td>181.066</td>\n",
       "      <td>8</td>\n",
       "      <td>0.547945</td>\n",
       "      <td>328</td>\n",
       "      <td>861</td>\n",
       "    </tr>\n",
       "  </tbody>\n",
       "</table>\n",
       "</div>"
      ],
      "text/plain": [
       "        column         type data_type   max min     mean      std nulls_count  \\\n",
       "18  MasVnrType  categorical    object                                       8   \n",
       "51  MasVnrArea    numerical   float64  1600   0  103.685  181.066           8   \n",
       "\n",
       "   nulls_percentage unique_count zero_count  \n",
       "18         0.547945            5             \n",
       "51         0.547945          328        861  "
      ]
     },
     "execution_count": 17,
     "metadata": {},
     "output_type": "execute_result"
    }
   ],
   "source": [
    "df_variables_info[(df_variables_info['column'] == 'MasVnrType') | (df_variables_info['column'] == 'MasVnrArea')]"
   ]
  },
  {
   "cell_type": "code",
   "execution_count": 18,
   "metadata": {},
   "outputs": [
    {
     "data": {
      "text/plain": [
       "None       864\n",
       "BrkFace    445\n",
       "Stone      128\n",
       "BrkCmn      15\n",
       "Name: MasVnrType, dtype: int64"
      ]
     },
     "execution_count": 18,
     "metadata": {},
     "output_type": "execute_result"
    }
   ],
   "source": [
    "df_data['MasVnrType'].value_counts()"
   ]
  },
  {
   "cell_type": "markdown",
   "metadata": {},
   "source": [
    "We can see that 'MasVnrType' is categorical and can assume 4 possible values. By analysing the dataframe 'df_variables_info' that we created, with information about the features, we can observe that both the two features have 8 nulls. Lets check if those 8 records are the same."
   ]
  },
  {
   "cell_type": "code",
   "execution_count": 19,
   "metadata": {},
   "outputs": [
    {
     "data": {
      "text/plain": [
       "(array([ 234,  529,  650,  936,  973,  977, 1243, 1278], dtype=int64),\n",
       " array([ 234,  529,  650,  936,  973,  977, 1243, 1278], dtype=int64))"
      ]
     },
     "execution_count": 19,
     "metadata": {},
     "output_type": "execute_result"
    }
   ],
   "source": [
    "df_data[df_data['MasVnrType'].isnull()].index.values, df_data[df_data['MasVnrArea'].isnull()].index.values"
   ]
  },
  {
   "cell_type": "markdown",
   "metadata": {},
   "source": [
    "We can see that when 'MasVnrType' is null, 'MasVnrArea' is null as well. By analysing the 4 possible values that the 'MasVnrType' could assume, we decided to impute 'None' to 'MasVnrType' and 0 to 'MasVnrArea'."
   ]
  },
  {
   "cell_type": "code",
   "execution_count": 20,
   "metadata": {},
   "outputs": [],
   "source": [
    "for i in df_data[df_data['MasVnrType'].isnull()].index.values:\n",
    "    df_data.loc[i,'MasVnrType'] = 'None'\n",
    "    df_data.loc[i,'MasVnrArea'] = 0"
   ]
  },
  {
   "cell_type": "markdown",
   "metadata": {},
   "source": [
    "Now lets explore the 'GarageYrBlt' feature distribution"
   ]
  },
  {
   "cell_type": "code",
   "execution_count": 21,
   "metadata": {},
   "outputs": [
    {
     "name": "stdout",
     "output_type": "stream",
     "text": [
      "Records with missing values: 81\n",
      "\n",
      " mu = 1978.51 and sigma = 24.68\n",
      "\n"
     ]
    },
    {
     "data": {
      "image/png": "[encoded data removed]",
      "text/plain": [
       "<Figure size 1080x288 with 1 Axes>"
      ]
     },
     "metadata": {
      "needs_background": "light"
     },
     "output_type": "display_data"
    }
   ],
   "source": [
    "print('Records with missing values: {}'.format(len(df_data[df_data['GarageYrBlt'].isnull()])))\n",
    "df_graph = df_data[df_data['GarageYrBlt']>=0]\n",
    "feature_dist(df_graph, 'GarageYrBlt')"
   ]
  },
  {
   "cell_type": "markdown",
   "metadata": {},
   "source": [
    "The feature has a mean around 1980 and a standard deviation of 25. We could assign the missing values with the mean of the feature, but we decided to assign it with the same value as the 'YearBuilt', which represents the year that the house was built. This prevent us from having cases were GarageYrBlt < YearBuilt"
   ]
  },
  {
   "cell_type": "code",
   "execution_count": 22,
   "metadata": {},
   "outputs": [],
   "source": [
    "df_garageyearnulls = df_data[df_data['GarageYrBlt'].isnull()]\n",
    "for i, r in df_garageyearnulls.iterrows():\n",
    "    df_data.loc[i,'GarageYrBlt'] = r.YearBuilt"
   ]
  },
  {
   "cell_type": "markdown",
   "metadata": {},
   "source": [
    "### Categorical Features"
   ]
  },
  {
   "cell_type": "markdown",
   "metadata": {},
   "source": [
    "Categorical columns with missing values are a lot more, they include:\n",
    "+ Type of alley access (Alley)\n",
    "+ Masonry veneer type (MasVnrType)\n",
    "+ Height of the basement (BsmtQual)\n",
    "+ General condition of the Basement (BsmtCond)\n",
    "+ Walkout of garden level basement walls (BsmtExposure)\n",
    "+ Quality of basement finished area (BsmtFinType1)\n",
    "+ Quality of second finished area (BsmtFinType2)\n",
    "+ Electrical System (Electrical)\n",
    "+ Fireplace quality (FireplaceQu)\n",
    "+ Garage location (GarageType)\n",
    "+ Interior finish of the garage (GarageFinish)\n",
    "+ Garage quality (GarageQual)\n",
    "+ Garage condition (GarageCond)\n",
    "+ Pool quality (PoolQC)\n",
    "+ Fence quality (Fence)\n",
    "+ Miscellaneous feature not covered in other categories (MiscFeature)"
   ]
  },
  {
   "cell_type": "markdown",
   "metadata": {},
   "source": [
    "Bellow we have a graph that identify the percentage of nulls in the categorical variables. As we can see by looking to the graph, the first 5 columns have most of his values being null. We decided to remove that first 5 columns from the dataset."
   ]
  },
  {
   "cell_type": "code",
   "execution_count": 23,
   "metadata": {},
   "outputs": [
    {
     "data": {
      "text/plain": [
       "(array([ 0,  1,  2,  3,  4,  5,  6,  7,  8,  9, 10, 11, 12, 13, 14, 15]),\n",
       " <a list of 16 Text xticklabel objects>)"
      ]
     },
     "execution_count": 23,
     "metadata": {},
     "output_type": "execute_result"
    },
    {
     "data": {
      "image/png": "[encoded data removed]",
      "text/plain": [
       "<Figure size 720x360 with 1 Axes>"
      ]
     },
     "metadata": {
      "needs_background": "light"
     },
     "output_type": "display_data"
    }
   ],
   "source": [
    "#get just columns with null values\n",
    "df_graph = df_variables_info[(df_variables_info['nulls_percentage']> 0)&(df_variables_info['type']=='categorical')].sort_values('nulls_percentage',ascending = False)\n",
    "#plot them\n",
    "plt.figure(figsize=(10,5))\n",
    "sns.barplot(x='column', y = 'nulls_percentage', hue='type', data = df_graph)\n",
    "plt.title('Percentage of nulls by column')\n",
    "plt.xticks(rotation=90)"
   ]
  },
  {
   "cell_type": "code",
   "execution_count": 24,
   "metadata": {},
   "outputs": [],
   "source": [
    "cols_to_remove = [\n",
    "    'PoolQC',\n",
    "    'MiscFeature',\n",
    "    'Alley',\n",
    "    'Fence',\n",
    "    'FireplaceQu'\n",
    "]\n",
    "for c in cols_to_remove: df_data.drop(c, axis=1, inplace=True)"
   ]
  },
  {
   "cell_type": "markdown",
   "metadata": {},
   "source": [
    "For the other categorical columns we will input 'unknown' since it is impossible to know if the missing data was forgotten to be added or if it was just because it was not applicable. Beside that, these remaining categorical features have few values "
   ]
  },
  {
   "cell_type": "code",
   "execution_count": 25,
   "metadata": {},
   "outputs": [],
   "source": [
    "cat_var2 = np.setdiff1d(cat_var,cols_to_remove)\n",
    "# yields the elements in `list_2` that are NOT in `list_1`\n",
    "df_data[cat_var2] = df_data[cat_var2].fillna('unknown')"
   ]
  },
  {
   "cell_type": "markdown",
   "metadata": {},
   "source": [
    "## Features Encoding"
   ]
  },
  {
   "cell_type": "markdown",
   "metadata": {},
   "source": [
    "In this section we will encode the categorical features. We decided to use leave one out encoding strategy for the features, and the label encoder for the target (classification task)"
   ]
  },
  {
   "cell_type": "markdown",
   "metadata": {},
   "source": [
    "Bellow we define a function that get the data for the machine learning task."
   ]
  },
  {
   "cell_type": "code",
   "execution_count": 26,
   "metadata": {},
   "outputs": [],
   "source": [
    "def get_data(df, features=None, regression=True):\n",
    "    \"\"\"Creates data.\n",
    "    \n",
    "    Parameters:\n",
    "        df (DataFrame): table with rows and columns\n",
    "        features (Index, Series, list): vector of column names to include in data\n",
    "        binary (bool): choose which target values to use\n",
    "    \n",
    "    Returns:\n",
    "        ndarray: matrix of features values\n",
    "        ndarray: vector of target values\n",
    "        ndarray, Index, list: vector of feature names\n",
    "        string: target name\n",
    "    \n",
    "    \"\"\"\n",
    "    if features is None: \n",
    "        features = df.columns.tolist()\n",
    "    \n",
    "    # guarantee that target features are not included\n",
    "        features.remove('Id')\n",
    "        features.remove('Price3Classes')\n",
    "        features.remove('SalePrice')\n",
    "    \n",
    "    X = df[features]\n",
    "    \n",
    "    if regression == True:\n",
    "        y = df[['SalePrice']]\n",
    "        target = 'SalePrice'\n",
    "    else:\n",
    "        y = df[['Price3Classes']]\n",
    "        target = 'Price3Classes'\n",
    "    \n",
    "    return X, y, features, target"
   ]
  },
  {
   "cell_type": "code",
   "execution_count": 27,
   "metadata": {},
   "outputs": [
    {
     "data": {
      "text/html": [
       "<div>\n",
       "<style scoped>\n",
       "    .dataframe tbody tr th:only-of-type {\n",
       "        vertical-align: middle;\n",
       "    }\n",
       "\n",
       "    .dataframe tbody tr th {\n",
       "        vertical-align: top;\n",
       "    }\n",
       "\n",
       "    .dataframe thead th {\n",
       "        text-align: right;\n",
       "    }\n",
       "</style>\n",
       "<table border=\"1\" class=\"dataframe\">\n",
       "  <thead>\n",
       "    <tr style=\"text-align: right;\">\n",
       "      <th></th>\n",
       "      <th>MSSubClass</th>\n",
       "      <th>MSZoning</th>\n",
       "      <th>LotFrontage</th>\n",
       "      <th>LotArea</th>\n",
       "      <th>Street</th>\n",
       "      <th>LotShape</th>\n",
       "      <th>LandContour</th>\n",
       "      <th>Utilities</th>\n",
       "      <th>LotConfig</th>\n",
       "      <th>LandSlope</th>\n",
       "      <th>...</th>\n",
       "      <th>OpenPorchSF</th>\n",
       "      <th>EnclosedPorch</th>\n",
       "      <th>3SsnPorch</th>\n",
       "      <th>ScreenPorch</th>\n",
       "      <th>PoolArea</th>\n",
       "      <th>MiscVal</th>\n",
       "      <th>MoSold</th>\n",
       "      <th>YrSold</th>\n",
       "      <th>SaleType</th>\n",
       "      <th>SaleCondition</th>\n",
       "    </tr>\n",
       "  </thead>\n",
       "  <tbody>\n",
       "    <tr>\n",
       "      <th>0</th>\n",
       "      <td>60</td>\n",
       "      <td>RL</td>\n",
       "      <td>65.0</td>\n",
       "      <td>8450</td>\n",
       "      <td>Pave</td>\n",
       "      <td>Reg</td>\n",
       "      <td>Lvl</td>\n",
       "      <td>AllPub</td>\n",
       "      <td>Inside</td>\n",
       "      <td>Gtl</td>\n",
       "      <td>...</td>\n",
       "      <td>61</td>\n",
       "      <td>0</td>\n",
       "      <td>0</td>\n",
       "      <td>0</td>\n",
       "      <td>0</td>\n",
       "      <td>0</td>\n",
       "      <td>2</td>\n",
       "      <td>2008</td>\n",
       "      <td>WD</td>\n",
       "      <td>Normal</td>\n",
       "    </tr>\n",
       "    <tr>\n",
       "      <th>1</th>\n",
       "      <td>20</td>\n",
       "      <td>RL</td>\n",
       "      <td>80.0</td>\n",
       "      <td>9600</td>\n",
       "      <td>Pave</td>\n",
       "      <td>Reg</td>\n",
       "      <td>Lvl</td>\n",
       "      <td>AllPub</td>\n",
       "      <td>FR2</td>\n",
       "      <td>Gtl</td>\n",
       "      <td>...</td>\n",
       "      <td>0</td>\n",
       "      <td>0</td>\n",
       "      <td>0</td>\n",
       "      <td>0</td>\n",
       "      <td>0</td>\n",
       "      <td>0</td>\n",
       "      <td>5</td>\n",
       "      <td>2007</td>\n",
       "      <td>WD</td>\n",
       "      <td>Normal</td>\n",
       "    </tr>\n",
       "    <tr>\n",
       "      <th>2</th>\n",
       "      <td>60</td>\n",
       "      <td>RL</td>\n",
       "      <td>68.0</td>\n",
       "      <td>11250</td>\n",
       "      <td>Pave</td>\n",
       "      <td>IR1</td>\n",
       "      <td>Lvl</td>\n",
       "      <td>AllPub</td>\n",
       "      <td>Inside</td>\n",
       "      <td>Gtl</td>\n",
       "      <td>...</td>\n",
       "      <td>42</td>\n",
       "      <td>0</td>\n",
       "      <td>0</td>\n",
       "      <td>0</td>\n",
       "      <td>0</td>\n",
       "      <td>0</td>\n",
       "      <td>9</td>\n",
       "      <td>2008</td>\n",
       "      <td>WD</td>\n",
       "      <td>Normal</td>\n",
       "    </tr>\n",
       "    <tr>\n",
       "      <th>3</th>\n",
       "      <td>70</td>\n",
       "      <td>RL</td>\n",
       "      <td>60.0</td>\n",
       "      <td>9550</td>\n",
       "      <td>Pave</td>\n",
       "      <td>IR1</td>\n",
       "      <td>Lvl</td>\n",
       "      <td>AllPub</td>\n",
       "      <td>Corner</td>\n",
       "      <td>Gtl</td>\n",
       "      <td>...</td>\n",
       "      <td>35</td>\n",
       "      <td>272</td>\n",
       "      <td>0</td>\n",
       "      <td>0</td>\n",
       "      <td>0</td>\n",
       "      <td>0</td>\n",
       "      <td>2</td>\n",
       "      <td>2006</td>\n",
       "      <td>WD</td>\n",
       "      <td>Abnorml</td>\n",
       "    </tr>\n",
       "    <tr>\n",
       "      <th>4</th>\n",
       "      <td>60</td>\n",
       "      <td>RL</td>\n",
       "      <td>84.0</td>\n",
       "      <td>14260</td>\n",
       "      <td>Pave</td>\n",
       "      <td>IR1</td>\n",
       "      <td>Lvl</td>\n",
       "      <td>AllPub</td>\n",
       "      <td>FR2</td>\n",
       "      <td>Gtl</td>\n",
       "      <td>...</td>\n",
       "      <td>84</td>\n",
       "      <td>0</td>\n",
       "      <td>0</td>\n",
       "      <td>0</td>\n",
       "      <td>0</td>\n",
       "      <td>0</td>\n",
       "      <td>12</td>\n",
       "      <td>2008</td>\n",
       "      <td>WD</td>\n",
       "      <td>Normal</td>\n",
       "    </tr>\n",
       "  </tbody>\n",
       "</table>\n",
       "<p>5 rows × 74 columns</p>\n",
       "</div>"
      ],
      "text/plain": [
       "   MSSubClass MSZoning  LotFrontage  LotArea Street LotShape LandContour  \\\n",
       "0          60       RL         65.0     8450   Pave      Reg         Lvl   \n",
       "1          20       RL         80.0     9600   Pave      Reg         Lvl   \n",
       "2          60       RL         68.0    11250   Pave      IR1         Lvl   \n",
       "3          70       RL         60.0     9550   Pave      IR1         Lvl   \n",
       "4          60       RL         84.0    14260   Pave      IR1         Lvl   \n",
       "\n",
       "  Utilities LotConfig LandSlope  ... OpenPorchSF EnclosedPorch 3SsnPorch  \\\n",
       "0    AllPub    Inside       Gtl  ...          61             0         0   \n",
       "1    AllPub       FR2       Gtl  ...           0             0         0   \n",
       "2    AllPub    Inside       Gtl  ...          42             0         0   \n",
       "3    AllPub    Corner       Gtl  ...          35           272         0   \n",
       "4    AllPub       FR2       Gtl  ...          84             0         0   \n",
       "\n",
       "  ScreenPorch PoolArea  MiscVal  MoSold  YrSold  SaleType SaleCondition  \n",
       "0           0        0        0       2    2008        WD        Normal  \n",
       "1           0        0        0       5    2007        WD        Normal  \n",
       "2           0        0        0       9    2008        WD        Normal  \n",
       "3           0        0        0       2    2006        WD       Abnorml  \n",
       "4           0        0        0      12    2008        WD        Normal  \n",
       "\n",
       "[5 rows x 74 columns]"
      ]
     },
     "execution_count": 27,
     "metadata": {},
     "output_type": "execute_result"
    }
   ],
   "source": [
    "df_X, df_y_reg, features, target_r = get_data(df_data, regression=True)\n",
    "df_X, df_y_cat, features, target_c = get_data(df_data, regression=False)\n",
    "df_X.head()"
   ]
  },
  {
   "cell_type": "markdown",
   "metadata": {},
   "source": [
    "Encode the target variable by using Label Encoder."
   ]
  },
  {
   "cell_type": "code",
   "execution_count": 28,
   "metadata": {},
   "outputs": [
    {
     "name": "stderr",
     "output_type": "stream",
     "text": [
      "C:\\Users\\joao_\\Anaconda3\\lib\\site-packages\\sklearn\\preprocessing\\_label.py:235: DataConversionWarning: A column-vector y was passed when a 1d array was expected. Please change the shape of y to (n_samples, ), for example using ravel().\n",
      "  y = column_or_1d(y, warn=True)\n",
      "C:\\Users\\joao_\\Anaconda3\\lib\\site-packages\\sklearn\\preprocessing\\_label.py:268: DataConversionWarning: A column-vector y was passed when a 1d array was expected. Please change the shape of y to (n_samples, ), for example using ravel().\n",
      "  y = column_or_1d(y, warn=True)\n"
     ]
    },
    {
     "data": {
      "text/plain": [
       "array([2, 0, 2, ..., 2, 0, 0])"
      ]
     },
     "execution_count": 28,
     "metadata": {},
     "output_type": "execute_result"
    }
   ],
   "source": [
    "from sklearn import preprocessing\n",
    "le = preprocessing.LabelEncoder()\n",
    "df_y_cat_enc = le.fit(df_y_cat)\n",
    "df_y_cat_enc = le.transform(df_y_cat)\n",
    "df_y_cat_enc"
   ]
  },
  {
   "cell_type": "markdown",
   "metadata": {},
   "source": [
    "Encode the categorical features by using Leave One Out Encoder."
   ]
  },
  {
   "cell_type": "code",
   "execution_count": 29,
   "metadata": {},
   "outputs": [
    {
     "data": {
      "text/html": [
       "<div>\n",
       "<style scoped>\n",
       "    .dataframe tbody tr th:only-of-type {\n",
       "        vertical-align: middle;\n",
       "    }\n",
       "\n",
       "    .dataframe tbody tr th {\n",
       "        vertical-align: top;\n",
       "    }\n",
       "\n",
       "    .dataframe thead th {\n",
       "        text-align: right;\n",
       "    }\n",
       "</style>\n",
       "<table border=\"1\" class=\"dataframe\">\n",
       "  <thead>\n",
       "    <tr style=\"text-align: right;\">\n",
       "      <th></th>\n",
       "      <th>MSSubClass</th>\n",
       "      <th>MSZoning</th>\n",
       "      <th>LotFrontage</th>\n",
       "      <th>LotArea</th>\n",
       "      <th>Street</th>\n",
       "      <th>LotShape</th>\n",
       "      <th>LandContour</th>\n",
       "      <th>Utilities</th>\n",
       "      <th>LotConfig</th>\n",
       "      <th>LandSlope</th>\n",
       "      <th>...</th>\n",
       "      <th>OpenPorchSF</th>\n",
       "      <th>EnclosedPorch</th>\n",
       "      <th>3SsnPorch</th>\n",
       "      <th>ScreenPorch</th>\n",
       "      <th>PoolArea</th>\n",
       "      <th>MiscVal</th>\n",
       "      <th>MoSold</th>\n",
       "      <th>YrSold</th>\n",
       "      <th>SaleType</th>\n",
       "      <th>SaleCondition</th>\n",
       "    </tr>\n",
       "  </thead>\n",
       "  <tbody>\n",
       "    <tr>\n",
       "      <th>0</th>\n",
       "      <td>1.163880</td>\n",
       "      <td>0.654214</td>\n",
       "      <td>65.0</td>\n",
       "      <td>8450</td>\n",
       "      <td>0.577717</td>\n",
       "      <td>0.422703</td>\n",
       "      <td>0.559878</td>\n",
       "      <td>0.577108</td>\n",
       "      <td>0.543726</td>\n",
       "      <td>0.563676</td>\n",
       "      <td>...</td>\n",
       "      <td>61</td>\n",
       "      <td>0</td>\n",
       "      <td>0</td>\n",
       "      <td>0</td>\n",
       "      <td>0</td>\n",
       "      <td>0</td>\n",
       "      <td>0.653846</td>\n",
       "      <td>2008</td>\n",
       "      <td>0.519337</td>\n",
       "      <td>0.534224</td>\n",
       "    </tr>\n",
       "    <tr>\n",
       "      <th>1</th>\n",
       "      <td>0.615672</td>\n",
       "      <td>0.654214</td>\n",
       "      <td>80.0</td>\n",
       "      <td>9600</td>\n",
       "      <td>0.577717</td>\n",
       "      <td>0.422703</td>\n",
       "      <td>0.559878</td>\n",
       "      <td>0.577108</td>\n",
       "      <td>0.468085</td>\n",
       "      <td>0.563676</td>\n",
       "      <td>...</td>\n",
       "      <td>0</td>\n",
       "      <td>0</td>\n",
       "      <td>0</td>\n",
       "      <td>0</td>\n",
       "      <td>0</td>\n",
       "      <td>0</td>\n",
       "      <td>0.539216</td>\n",
       "      <td>2007</td>\n",
       "      <td>0.519337</td>\n",
       "      <td>0.534224</td>\n",
       "    </tr>\n",
       "    <tr>\n",
       "      <th>2</th>\n",
       "      <td>1.163880</td>\n",
       "      <td>0.654214</td>\n",
       "      <td>68.0</td>\n",
       "      <td>11250</td>\n",
       "      <td>0.577717</td>\n",
       "      <td>0.832645</td>\n",
       "      <td>0.559878</td>\n",
       "      <td>0.577108</td>\n",
       "      <td>0.543726</td>\n",
       "      <td>0.563676</td>\n",
       "      <td>...</td>\n",
       "      <td>42</td>\n",
       "      <td>0</td>\n",
       "      <td>0</td>\n",
       "      <td>0</td>\n",
       "      <td>0</td>\n",
       "      <td>0</td>\n",
       "      <td>0.793651</td>\n",
       "      <td>2008</td>\n",
       "      <td>0.519337</td>\n",
       "      <td>0.534224</td>\n",
       "    </tr>\n",
       "    <tr>\n",
       "      <th>3</th>\n",
       "      <td>0.466667</td>\n",
       "      <td>0.654214</td>\n",
       "      <td>60.0</td>\n",
       "      <td>9550</td>\n",
       "      <td>0.577717</td>\n",
       "      <td>0.832645</td>\n",
       "      <td>0.559878</td>\n",
       "      <td>0.577108</td>\n",
       "      <td>0.596958</td>\n",
       "      <td>0.563676</td>\n",
       "      <td>...</td>\n",
       "      <td>35</td>\n",
       "      <td>272</td>\n",
       "      <td>0</td>\n",
       "      <td>0</td>\n",
       "      <td>0</td>\n",
       "      <td>0</td>\n",
       "      <td>0.653846</td>\n",
       "      <td>2006</td>\n",
       "      <td>0.519337</td>\n",
       "      <td>0.267327</td>\n",
       "    </tr>\n",
       "    <tr>\n",
       "      <th>4</th>\n",
       "      <td>1.163880</td>\n",
       "      <td>0.654214</td>\n",
       "      <td>84.0</td>\n",
       "      <td>14260</td>\n",
       "      <td>0.577717</td>\n",
       "      <td>0.832645</td>\n",
       "      <td>0.559878</td>\n",
       "      <td>0.577108</td>\n",
       "      <td>0.468085</td>\n",
       "      <td>0.563676</td>\n",
       "      <td>...</td>\n",
       "      <td>84</td>\n",
       "      <td>0</td>\n",
       "      <td>0</td>\n",
       "      <td>0</td>\n",
       "      <td>0</td>\n",
       "      <td>0</td>\n",
       "      <td>0.847458</td>\n",
       "      <td>2008</td>\n",
       "      <td>0.519337</td>\n",
       "      <td>0.534224</td>\n",
       "    </tr>\n",
       "  </tbody>\n",
       "</table>\n",
       "<p>5 rows × 74 columns</p>\n",
       "</div>"
      ],
      "text/plain": [
       "   MSSubClass  MSZoning  LotFrontage  LotArea    Street  LotShape  \\\n",
       "0    1.163880  0.654214         65.0     8450  0.577717  0.422703   \n",
       "1    0.615672  0.654214         80.0     9600  0.577717  0.422703   \n",
       "2    1.163880  0.654214         68.0    11250  0.577717  0.832645   \n",
       "3    0.466667  0.654214         60.0     9550  0.577717  0.832645   \n",
       "4    1.163880  0.654214         84.0    14260  0.577717  0.832645   \n",
       "\n",
       "   LandContour  Utilities  LotConfig  LandSlope  ...  OpenPorchSF  \\\n",
       "0     0.559878   0.577108   0.543726   0.563676  ...           61   \n",
       "1     0.559878   0.577108   0.468085   0.563676  ...            0   \n",
       "2     0.559878   0.577108   0.543726   0.563676  ...           42   \n",
       "3     0.559878   0.577108   0.596958   0.563676  ...           35   \n",
       "4     0.559878   0.577108   0.468085   0.563676  ...           84   \n",
       "\n",
       "   EnclosedPorch  3SsnPorch  ScreenPorch  PoolArea  MiscVal    MoSold  YrSold  \\\n",
       "0              0          0            0         0        0  0.653846    2008   \n",
       "1              0          0            0         0        0  0.539216    2007   \n",
       "2              0          0            0         0        0  0.793651    2008   \n",
       "3            272          0            0         0        0  0.653846    2006   \n",
       "4              0          0            0         0        0  0.847458    2008   \n",
       "\n",
       "   SaleType  SaleCondition  \n",
       "0  0.519337       0.534224  \n",
       "1  0.519337       0.534224  \n",
       "2  0.519337       0.534224  \n",
       "3  0.519337       0.267327  \n",
       "4  0.519337       0.534224  \n",
       "\n",
       "[5 rows x 74 columns]"
      ]
     },
     "execution_count": 29,
     "metadata": {},
     "output_type": "execute_result"
    }
   ],
   "source": [
    "import category_encoders as ce\n",
    "\n",
    "encoder = ce.LeaveOneOutEncoder(cols = cat_var2)\n",
    "encoder.fit(df_X, df_y_cat_enc)\n",
    "df_X_encoded = encoder.transform(df_X)\n",
    "df_X_encoded.head()"
   ]
  },
  {
   "cell_type": "markdown",
   "metadata": {},
   "source": [
    "## Balancing data"
   ]
  },
  {
   "cell_type": "markdown",
   "metadata": {},
   "source": [
    "As we have seen in the previous section we have an unbalanced dataset for the classification task. We will use SMOTE oversampling strategy in order to balance our dataset."
   ]
  },
  {
   "cell_type": "code",
   "execution_count": 30,
   "metadata": {},
   "outputs": [
    {
     "name": "stdout",
     "output_type": "stream",
     "text": [
      "dataset size: 1460\n"
     ]
    },
    {
     "data": {
      "text/plain": [
       "<matplotlib.axes._subplots.AxesSubplot at 0x18f2b3f5e48>"
      ]
     },
     "execution_count": 30,
     "metadata": {},
     "output_type": "execute_result"
    },
    {
     "data": {
      "image/png": "[encoded data removed]",
      "text/plain": [
       "<Figure size 432x288 with 1 Axes>"
      ]
     },
     "metadata": {
      "needs_background": "light"
     },
     "output_type": "display_data"
    }
   ],
   "source": [
    "print('dataset size: {}'.format(len(df_X_encoded)))\n",
    "pd.DataFrame(df_y_cat_enc, columns = [target_c])[target_c].value_counts().sort_values().plot(kind = 'barh')"
   ]
  },
  {
   "cell_type": "code",
   "execution_count": 31,
   "metadata": {},
   "outputs": [],
   "source": [
    "smt = SMOTETomek(random_state=1)\n",
    "df_X_encoded_balanced, y_cat_enc_balanced = smt.fit_resample(df_X_encoded, df_y_cat_enc)"
   ]
  },
  {
   "cell_type": "code",
   "execution_count": 32,
   "metadata": {},
   "outputs": [
    {
     "name": "stdout",
     "output_type": "stream",
     "text": [
      "dataset size: 3045\n"
     ]
    },
    {
     "data": {
      "text/plain": [
       "<matplotlib.axes._subplots.AxesSubplot at 0x18f2b44a588>"
      ]
     },
     "execution_count": 32,
     "metadata": {},
     "output_type": "execute_result"
    },
    {
     "data": {
      "image/png": "[encoded data removed]",
      "text/plain": [
       "<Figure size 432x288 with 1 Axes>"
      ]
     },
     "metadata": {
      "needs_background": "light"
     },
     "output_type": "display_data"
    }
   ],
   "source": [
    "print('dataset size: {}'.format(len(df_X_encoded_balanced)))\n",
    "pd.DataFrame(y_cat_enc_balanced, columns = [target_c])[target_c].value_counts().sort_values().plot(kind = 'barh')"
   ]
  },
  {
   "cell_type": "markdown",
   "metadata": {},
   "source": [
    "We can see that after applying the SMOTE oversampling algorithm, our dataset increases from 1460 records to 3045 records."
   ]
  },
  {
   "cell_type": "markdown",
   "metadata": {},
   "source": [
    "## 1.3. Feature Selection\n",
    "\n",
    "As the number of features increases, the model becomes more complex. The more the number of features, the more the chances of overfitting. A machine learning model that is trained on a large number of features, gets increasingly dependent on the data it was trained on and in turn becomes overfitted, resulting in poor performance on real data, beating its purpose.\n",
    "\n",
    "We therefore do a dimensionality reduction. In order to do that, we will use a Random Forest in order to obtain the feature_importances."
   ]
  },
  {
   "cell_type": "markdown",
   "metadata": {},
   "source": [
    "### 1.3.2. Feature Selection\n",
    "\n",
    "#### For Regression"
   ]
  },
  {
   "cell_type": "code",
   "execution_count": 33,
   "metadata": {},
   "outputs": [
    {
     "name": "stderr",
     "output_type": "stream",
     "text": [
      "C:\\Users\\joao_\\Anaconda3\\lib\\site-packages\\ipykernel_launcher.py:2: DataConversionWarning: A column-vector y was passed when a 1d array was expected. Please change the shape of y to (n_samples,), for example using ravel().\n",
      "  \n"
     ]
    },
    {
     "data": {
      "text/plain": [
       "RandomForestRegressor(bootstrap=True, ccp_alpha=0.0, criterion='mse',\n",
       "                      max_depth=None, max_features='auto', max_leaf_nodes=None,\n",
       "                      max_samples=None, min_impurity_decrease=0.0,\n",
       "                      min_impurity_split=None, min_samples_leaf=1,\n",
       "                      min_samples_split=2, min_weight_fraction_leaf=0.0,\n",
       "                      n_estimators=100, n_jobs=None, oob_score=False,\n",
       "                      random_state=1, verbose=0, warm_start=False)"
      ]
     },
     "execution_count": 33,
     "metadata": {},
     "output_type": "execute_result"
    }
   ],
   "source": [
    "model = RandomForestRegressor(n_estimators=100, random_state=1)\n",
    "model.fit(df_X_encoded, df_y_reg)"
   ]
  },
  {
   "cell_type": "code",
   "execution_count": 34,
   "metadata": {},
   "outputs": [
    {
     "data": {
      "text/plain": [
       "Text(0, 0.5, 'Importance')"
      ]
     },
     "execution_count": 34,
     "metadata": {},
     "output_type": "execute_result"
    },
    {
     "data": {
      "image/png": "[encoded data removed]",
      "text/plain": [
       "<Figure size 1440x720 with 1 Axes>"
      ]
     },
     "metadata": {
      "needs_background": "light"
     },
     "output_type": "display_data"
    }
   ],
   "source": [
    "importance_df_reg = pd.DataFrame(np.vstack((df_X_encoded.columns,model.feature_importances_))).T.sort_values(1, ascending=False)\n",
    "plt.figure(figsize=(20,10))\n",
    "sns.barplot(data=importance_df_reg.iloc[:20,:], x=0, y=1)\n",
    "plt.xticks(rotation=45)\n",
    "plt.xlabel('Features')\n",
    "plt.ylabel('Importance')"
   ]
  },
  {
   "cell_type": "code",
   "execution_count": 35,
   "metadata": {},
   "outputs": [
    {
     "data": {
      "text/plain": [
       "0.9359415067946505"
      ]
     },
     "execution_count": 35,
     "metadata": {},
     "output_type": "execute_result"
    }
   ],
   "source": [
    "importance_df_reg.iloc[:20][1].sum()"
   ]
  },
  {
   "cell_type": "code",
   "execution_count": 36,
   "metadata": {},
   "outputs": [],
   "source": [
    "# Saving the column for Regression analysis\n",
    "reg_columns = importance_df_reg[0].head(20).values.tolist()"
   ]
  },
  {
   "cell_type": "markdown",
   "metadata": {},
   "source": [
    "For the regression classification task we will use the 20 features that random forest regression gave more importance."
   ]
  },
  {
   "cell_type": "markdown",
   "metadata": {},
   "source": [
    "#### For Classification"
   ]
  },
  {
   "cell_type": "code",
   "execution_count": 37,
   "metadata": {},
   "outputs": [
    {
     "data": {
      "text/plain": [
       "RandomForestClassifier(bootstrap=True, ccp_alpha=0.0, class_weight=None,\n",
       "                       criterion='gini', max_depth=None, max_features='auto',\n",
       "                       max_leaf_nodes=None, max_samples=None,\n",
       "                       min_impurity_decrease=0.0, min_impurity_split=None,\n",
       "                       min_samples_leaf=1, min_samples_split=2,\n",
       "                       min_weight_fraction_leaf=0.0, n_estimators=100,\n",
       "                       n_jobs=None, oob_score=False, random_state=1, verbose=0,\n",
       "                       warm_start=False)"
      ]
     },
     "execution_count": 37,
     "metadata": {},
     "output_type": "execute_result"
    }
   ],
   "source": [
    "model = RandomForestClassifier(n_estimators=100, random_state=1)\n",
    "model.fit(df_X_encoded_balanced, y_cat_enc_balanced)"
   ]
  },
  {
   "cell_type": "code",
   "execution_count": 38,
   "metadata": {},
   "outputs": [
    {
     "data": {
      "text/plain": [
       "Text(0, 0.5, 'Importance')"
      ]
     },
     "execution_count": 38,
     "metadata": {},
     "output_type": "execute_result"
    },
    {
     "data": {
      "image/png": "[encoded data removed]",
      "text/plain": [
       "<Figure size 1440x720 with 1 Axes>"
      ]
     },
     "metadata": {
      "needs_background": "light"
     },
     "output_type": "display_data"
    }
   ],
   "source": [
    "importance_df_clf = pd.DataFrame(np.vstack((df_X_encoded_balanced.columns,model.feature_importances_))).T.sort_values(1, ascending=False)\n",
    "plt.figure(figsize=(20,10))\n",
    "sns.barplot(data=importance_df_clf.iloc[:20,:], x=0, y=1)\n",
    "plt.xticks(rotation=45)\n",
    "plt.xlabel('Features')\n",
    "plt.ylabel('Importance')"
   ]
  },
  {
   "cell_type": "code",
   "execution_count": 39,
   "metadata": {},
   "outputs": [
    {
     "data": {
      "text/plain": [
       "0.8130584194917337"
      ]
     },
     "execution_count": 39,
     "metadata": {},
     "output_type": "execute_result"
    }
   ],
   "source": [
    "importance_df_clf.iloc[:20][1].sum()"
   ]
  },
  {
   "cell_type": "code",
   "execution_count": 40,
   "metadata": {},
   "outputs": [],
   "source": [
    "# Saving the column for Classification analysis\n",
    "class_columns = importance_df_clf[0].head(20).values.tolist()"
   ]
  },
  {
   "cell_type": "markdown",
   "metadata": {},
   "source": [
    "For the classification task we will use the 20 features present in the graph above."
   ]
  },
  {
   "cell_type": "markdown",
   "metadata": {},
   "source": [
    "## 2. Learning Simple Classifiers\n",
    "\n",
    "* Choose **`X` classifiers** (https://scikit-learn.org/stable/supervised_learning.html#supervised-learning).\n",
    "* Use **grid-search and stratified 10 fold cross-validation** to estimate the best parameters (https://scikit-learn.org/stable/model_selection.html#model-selection). \n",
    "* Present mean and standard deviation of accuracy, precision and recall.\n",
    "* Show confusion matrices."
   ]
  },
  {
   "cell_type": "code",
   "execution_count": 41,
   "metadata": {},
   "outputs": [
    {
     "data": {
      "text/plain": [
       "((3045, 74), (3045,))"
      ]
     },
     "execution_count": 41,
     "metadata": {},
     "output_type": "execute_result"
    }
   ],
   "source": [
    "df_x_clf, y_clf = df_X_encoded_balanced, y_cat_enc_balanced\n",
    "df_x_clf.shape, y_clf.shape"
   ]
  },
  {
   "cell_type": "markdown",
   "metadata": {},
   "source": [
    "Bellow we define a method that receives a list of model and a list of hyperparameters to test. The method will split the data into training and test set, with the test set being 10% of the dataset. Then it will fed the GridSearchCV method that will find the best hyperparameters for the model being tested. The grid search uses cross validation with 10 folds. The method also receives as input a list of pipelines that are used to apply transformations to the data before feeding the machine learning models, such as data scaling. The best models found by the grid search will then be evaluated using the test set. The method saves the results in a pickle file."
   ]
  },
  {
   "cell_type": "code",
   "execution_count": 134,
   "metadata": {},
   "outputs": [],
   "source": [
    "from sklearn.metrics import accuracy_score, precision_score, recall_score, mean_absolute_error, mean_squared_error\n",
    "\n",
    "from sklearn.model_selection import train_test_split, GridSearchCV\n",
    "from tqdm.notebook import tqdm\n",
    "import json\n",
    "import pickle\n",
    "\n",
    "def train_and_eval(X, y, models, models_kwargs, pipelines, scoring, regression = False, save=None):\n",
    "    \"\"\"\n",
    "    X: the data\n",
    "    y: the target variable\n",
    "    models: list of machine learning model classes.\n",
    "    models_kwargs: list of dictionaries that will be used as keyword arguments for the model.\n",
    "                    If the kwargs includes a key 'param_grid' with a dictionary of value ranges,\n",
    "                    the optimum hyperparameters will be searched for using a GridSearch.\n",
    "    pipelines: list of sklearn pipelines, used to apply transformations on the data before fed the model.\n",
    "    scoring: the evaluation metric used by grid search to find the best hyper parameters.\n",
    "    regression: bool indicating if is a regression task.\n",
    "    save: String. Path to which to save the pickled dataframe.\n",
    "        This function may be useful as the dataframe includes the objects of the classifiers, which may\n",
    "        become useful to store to analyze later (beta coefficients, weights, etc.)\n",
    "    \"\"\"\n",
    "    \n",
    "    results = []\n",
    "    \n",
    "    models = list(zip(models, models_kwargs, pipelines))\n",
    "    \n",
    "    X_train, X_test, y_train, y_test = train_test_split(X, y, test_size=0.1, random_state=42)\n",
    "    \n",
    "    for (model, kwargs, pipe) in tqdm(models, desc=\"Models\", leave=False):\n",
    "        if \"param_grid\" in kwargs:\n",
    "            try:\n",
    "                model = model(random_state=42)\n",
    "            except:\n",
    "                model = model()\n",
    "                \n",
    "            if pipe == False: \n",
    "                grid_search = GridSearchCV(model, kwargs[\"param_grid\"], n_jobs=-1, cv=10,scoring=scoring)\n",
    "            else:\n",
    "                pipe.steps.insert(1,['estimator',model])                \n",
    "                pipe_params = {}\n",
    "                for key in kwargs[\"param_grid\"]: pipe_params['estimator__{}'.format(key)] = kwargs[\"param_grid\"][key]\n",
    "                grid_search = GridSearchCV(pipe, pipe_params, n_jobs=-1, cv=10,scoring=scoring)\n",
    "                \n",
    "            grid_search.fit(X_train, y_train)\n",
    "            model = grid_search.best_estimator_\n",
    "            params = grid_search.best_params_\n",
    "            results_best_model = pd.DataFrame(grid_search.cv_results_).iloc[grid_search.best_index_]\n",
    "            best_score = results_best_model.mean_test_score\n",
    "            best_score_std = results_best_model.std_test_score\n",
    "            \n",
    "        else:\n",
    "            try:\n",
    "                model = model(**kwargs, random_state=42)\n",
    "            except:\n",
    "                model = model(**kwargs)\n",
    "                \n",
    "            model.fit(X_train, y_train)\n",
    "            \n",
    "        y_pred = model.predict(X_test)\n",
    "        \n",
    "        if not regression:\n",
    "            acc = accuracy_score(y_test, y_pred)\n",
    "            prec = precision_score(y_test, y_pred, average='micro')\n",
    "            rec = recall_score(y_test, y_pred, average='micro')\n",
    "            \n",
    "            results.append(pd.DataFrame(data={\n",
    "                'model': [model],\n",
    "                'params': [json.dumps(params)],\n",
    "                'accuracy_train_mean': best_score,\n",
    "                'accuracy_train_std':best_score_std,\n",
    "                'accuracy_test': [acc],\n",
    "                'precision_test': [prec],\n",
    "                'recall_test' : [rec]\n",
    "            }))\n",
    "            \n",
    "        else: \n",
    "            mae = mean_absolute_error(y_test, y_pred)\n",
    "            rmse = mean_squared_error(y_test, y_pred, squared = False)\n",
    "            results.append(pd.DataFrame(data={\n",
    "                'model': [model],\n",
    "                'params': [json.dumps(params)],\n",
    "                'rmse_train_mean':best_score if not regression else - best_score,\n",
    "                'rmse_train_std':best_score_std,\n",
    "                'mae_test': [mae],\n",
    "                'rmse_test': [rmse],\n",
    "            }))\n",
    "                \n",
    "    df = pd.concat(results, ignore_index=True)\n",
    "    \n",
    "    if save is not None:\n",
    "        with open(save, \"wb\") as fw:\n",
    "            pickle.dump(df, fw, pickle.HIGHEST_PROTOCOL)\n",
    "\n",
    "    return df"
   ]
  },
  {
   "cell_type": "markdown",
   "metadata": {},
   "source": [
    "We decided to test a distance method (KNN), a linear model (logistic regressor) and a probablistic model (naive bayes). For the logistic regressor we define a pipeline that first standardizes the data before fed the model, which is an important preprocessing method for linear models, specially if the dataset contains columns of different types that are measured in different scales. We will use the accuracy metric, in order to find the best parameters in grid search. Then, we will compute the accuracy, precision and recall on the test set."
   ]
  },
  {
   "cell_type": "code",
   "execution_count": 126,
   "metadata": {},
   "outputs": [
    {
     "data": {
      "text/html": [
       "<div>\n",
       "<style scoped>\n",
       "    .dataframe tbody tr th:only-of-type {\n",
       "        vertical-align: middle;\n",
       "    }\n",
       "\n",
       "    .dataframe tbody tr th {\n",
       "        vertical-align: top;\n",
       "    }\n",
       "\n",
       "    .dataframe thead th {\n",
       "        text-align: right;\n",
       "    }\n",
       "</style>\n",
       "<table border=\"1\" class=\"dataframe\">\n",
       "  <thead>\n",
       "    <tr style=\"text-align: right;\">\n",
       "      <th></th>\n",
       "      <th>classifier</th>\n",
       "      <th>params</th>\n",
       "      <th>accuracy_train_mean</th>\n",
       "      <th>accuracy_train_std</th>\n",
       "      <th>accuracy_test</th>\n",
       "      <th>precision_test</th>\n",
       "      <th>recall_test</th>\n",
       "    </tr>\n",
       "  </thead>\n",
       "  <tbody>\n",
       "    <tr>\n",
       "      <th>0</th>\n",
       "      <td>KNeighborsClassifier(algorithm='auto', leaf_si...</td>\n",
       "      <td>{\"n_neighbors\": 3, \"weights\": \"distance\"}</td>\n",
       "      <td>0.935401</td>\n",
       "      <td>0.011775</td>\n",
       "      <td>0.947541</td>\n",
       "      <td>0.947541</td>\n",
       "      <td>0.947541</td>\n",
       "    </tr>\n",
       "    <tr>\n",
       "      <th>1</th>\n",
       "      <td>(StandardScaler(copy=True, with_mean=True, wit...</td>\n",
       "      <td>{\"estimator__C\": 0.5, \"estimator__tol\": 0.01}</td>\n",
       "      <td>0.961679</td>\n",
       "      <td>0.008202</td>\n",
       "      <td>0.954098</td>\n",
       "      <td>0.954098</td>\n",
       "      <td>0.954098</td>\n",
       "    </tr>\n",
       "    <tr>\n",
       "      <th>2</th>\n",
       "      <td>GaussianNB(priors=None, var_smoothing=1e-09)</td>\n",
       "      <td>{}</td>\n",
       "      <td>0.795985</td>\n",
       "      <td>0.020867</td>\n",
       "      <td>0.790164</td>\n",
       "      <td>0.790164</td>\n",
       "      <td>0.790164</td>\n",
       "    </tr>\n",
       "  </tbody>\n",
       "</table>\n",
       "</div>"
      ],
      "text/plain": [
       "                                          classifier  \\\n",
       "0  KNeighborsClassifier(algorithm='auto', leaf_si...   \n",
       "1  (StandardScaler(copy=True, with_mean=True, wit...   \n",
       "2       GaussianNB(priors=None, var_smoothing=1e-09)   \n",
       "\n",
       "                                          params  accuracy_train_mean  \\\n",
       "0      {\"n_neighbors\": 3, \"weights\": \"distance\"}             0.935401   \n",
       "1  {\"estimator__C\": 0.5, \"estimator__tol\": 0.01}             0.961679   \n",
       "2                                             {}             0.795985   \n",
       "\n",
       "   accuracy_train_std  accuracy_test  precision_test  recall_test  \n",
       "0            0.011775       0.947541        0.947541     0.947541  \n",
       "1            0.008202       0.954098        0.954098     0.954098  \n",
       "2            0.020867       0.790164        0.790164     0.790164  "
      ]
     },
     "execution_count": 126,
     "metadata": {},
     "output_type": "execute_result"
    }
   ],
   "source": [
    "from sklearn.linear_model import LogisticRegression\n",
    "from sklearn.neighbors import KNeighborsClassifier\n",
    "from sklearn.naive_bayes import GaussianNB\n",
    "from sklearn.pipeline import Pipeline\n",
    "from sklearn.preprocessing import StandardScaler\n",
    "\n",
    "import os.path\n",
    "from os import path\n",
    "\n",
    "if not path.exists('simple_classifiers.pickle'):\n",
    "    classifiers = [\n",
    "        KNeighborsClassifier,\n",
    "        LogisticRegression,\n",
    "        GaussianNB\n",
    "    ]\n",
    "\n",
    "    classifier_kwargs = [\n",
    "        {\"param_grid\": {'n_neighbors':[3,5,7],'weights':['uniform','distance']}},\n",
    "        {'param_grid': {'C':[0.1,0.5,1,10], 'tol': [1e-2,1e-3,1e-4]},'max_iter': [500]},\n",
    "        {'param_grid': {}}\n",
    "    ]\n",
    "\n",
    "    pipelines = [\n",
    "        False,\n",
    "        Pipeline([('scaler', StandardScaler())]),\n",
    "        False\n",
    "    ]\n",
    "\n",
    "    results1 = train_and_eval(df_x_clf, y_clf, classifiers, classifier_kwargs,pipelines, 'accuracy', save='simple_classifiers.pickle')\n",
    "else: results1 = pd.read_pickle('simple_classifiers.pickle')\n",
    "results1"
   ]
  },
  {
   "cell_type": "markdown",
   "metadata": {},
   "source": [
    "## 3. Learning Simple Regressors\n",
    "\n",
    "* Choose **`X` regressors** (https://scikit-learn.org/stable/supervised_learning.html#supervised-learning).\n",
    "* Use **grid-search and 10 fold cross-validation** to estimate the best parameters (https://scikit-learn.org/stable/model_selection.html#model-selection). \n",
    "* Use the mean absolute error regression loss, or other relevant metrics."
   ]
  },
  {
   "cell_type": "markdown",
   "metadata": {},
   "source": [
    "Get the data for the regression task"
   ]
  },
  {
   "cell_type": "code",
   "execution_count": 131,
   "metadata": {},
   "outputs": [
    {
     "data": {
      "text/plain": [
       "((1460, 74), (1460, 1))"
      ]
     },
     "execution_count": 131,
     "metadata": {},
     "output_type": "execute_result"
    }
   ],
   "source": [
    "df_x_reg, y_reg = df_X_encoded, df_y_reg\n",
    "df_x_reg.shape, y_reg.shape"
   ]
  },
  {
   "cell_type": "markdown",
   "metadata": {},
   "source": [
    "We will use the same method used in the classification task. We will use grid search, that will search for the best hyper paramaters by using the Root Mean Squared Error (RMSE) evaluation metric. After obtaining the best models, we test them in a the test set, that wasn't used by grid search. In the test set we used both the RMSE and the Mean Absolute Error (MAE) metrics."
   ]
  },
  {
   "cell_type": "code",
   "execution_count": 138,
   "metadata": {},
   "outputs": [
    {
     "data": {
      "application/vnd.jupyter.widget-view+json": {
       "model_id": "dfa6baf3ea2443a09fede807cbe461b1",
       "version_major": 2,
       "version_minor": 0
      },
      "text/plain": [
       "HBox(children=(FloatProgress(value=0.0, description='Models', max=3.0, style=ProgressStyle(description_width='…"
      ]
     },
     "metadata": {},
     "output_type": "display_data"
    },
    {
     "data": {
      "text/html": [
       "<div>\n",
       "<style scoped>\n",
       "    .dataframe tbody tr th:only-of-type {\n",
       "        vertical-align: middle;\n",
       "    }\n",
       "\n",
       "    .dataframe tbody tr th {\n",
       "        vertical-align: top;\n",
       "    }\n",
       "\n",
       "    .dataframe thead th {\n",
       "        text-align: right;\n",
       "    }\n",
       "</style>\n",
       "<table border=\"1\" class=\"dataframe\">\n",
       "  <thead>\n",
       "    <tr style=\"text-align: right;\">\n",
       "      <th></th>\n",
       "      <th>model</th>\n",
       "      <th>params</th>\n",
       "      <th>rmse_train_mean</th>\n",
       "      <th>rmse_train_std</th>\n",
       "      <th>mae_test</th>\n",
       "      <th>rmse_test</th>\n",
       "    </tr>\n",
       "  </thead>\n",
       "  <tbody>\n",
       "    <tr>\n",
       "      <th>0</th>\n",
       "      <td>(StandardScaler(copy=True, with_mean=True, wit...</td>\n",
       "      <td>{}</td>\n",
       "      <td>9.547282e+25</td>\n",
       "      <td>2.864185e+26</td>\n",
       "      <td>21659.101288</td>\n",
       "      <td>39139.561180</td>\n",
       "    </tr>\n",
       "    <tr>\n",
       "      <th>1</th>\n",
       "      <td>(StandardScaler(copy=True, with_mean=True, wit...</td>\n",
       "      <td>{\"estimator__alpha\": 75}</td>\n",
       "      <td>3.359686e+04</td>\n",
       "      <td>1.153149e+04</td>\n",
       "      <td>21436.446182</td>\n",
       "      <td>39008.976898</td>\n",
       "    </tr>\n",
       "    <tr>\n",
       "      <th>2</th>\n",
       "      <td>(StandardScaler(copy=True, with_mean=True, wit...</td>\n",
       "      <td>{\"estimator__alpha\": 75}</td>\n",
       "      <td>3.326004e+04</td>\n",
       "      <td>1.114548e+04</td>\n",
       "      <td>21313.796271</td>\n",
       "      <td>39143.147313</td>\n",
       "    </tr>\n",
       "  </tbody>\n",
       "</table>\n",
       "</div>"
      ],
      "text/plain": [
       "                                               model  \\\n",
       "0  (StandardScaler(copy=True, with_mean=True, wit...   \n",
       "1  (StandardScaler(copy=True, with_mean=True, wit...   \n",
       "2  (StandardScaler(copy=True, with_mean=True, wit...   \n",
       "\n",
       "                     params  rmse_train_mean  rmse_train_std      mae_test  \\\n",
       "0                        {}     9.547282e+25    2.864185e+26  21659.101288   \n",
       "1  {\"estimator__alpha\": 75}     3.359686e+04    1.153149e+04  21436.446182   \n",
       "2  {\"estimator__alpha\": 75}     3.326004e+04    1.114548e+04  21313.796271   \n",
       "\n",
       "      rmse_test  \n",
       "0  39139.561180  \n",
       "1  39008.976898  \n",
       "2  39143.147313  "
      ]
     },
     "execution_count": 138,
     "metadata": {},
     "output_type": "execute_result"
    }
   ],
   "source": [
    "from sklearn.linear_model import LinearRegression, Ridge, Lasso\n",
    "\n",
    "if not path.exists('simple_regressors.pickle'):\n",
    "    regressors = [\n",
    "        LinearRegression ,\n",
    "        Lasso,\n",
    "        Ridge\n",
    "    ]\n",
    "\n",
    "    regressors_kwargs = [\n",
    "        {\"param_grid\": {}},\n",
    "        {'param_grid': {'alpha': [0.05, 0.1, 0.3, 1, 3, 5, 10, 15, 30, 50, 75]}},\n",
    "        {'param_grid': {'alpha':[0.05, 0.1, 0.3, 1, 3, 5, 10, 15, 30, 50, 75]}},\n",
    "    ]\n",
    "\n",
    "    pipelines = [\n",
    "        Pipeline([('scaler', StandardScaler())]),\n",
    "        Pipeline([('scaler', StandardScaler())]),\n",
    "        Pipeline([('scaler', StandardScaler())])\n",
    "    ]\n",
    "\n",
    "    results2 = train_and_eval(df_x_reg, y_reg, regressors, regressors_kwargs,pipelines,scoring='neg_root_mean_squared_error', regression = True, save='simple_regressors.pickle')\n",
    "else: results2 = pd.read_pickle('simple_regressors.pickle')\n",
    "results2"
   ]
  },
  {
   "cell_type": "markdown",
   "metadata": {},
   "source": [
    "## 4. Ensemble Learning"
   ]
  },
  {
   "cell_type": "markdown",
   "metadata": {},
   "source": [
    "### Voting Classifier/Regressor\n",
    "\n",
    "* Use a voting classifier (http://scikit-learn.org/stable/modules/ensemble.html#voting-classifier)/regressor(https://scikit-learn.org/stable/modules/generated/sklearn.ensemble.VotingRegressor.html) to combine the best results of the `X` classifiers/regressors from previous sections. "
   ]
  },
  {
   "cell_type": "code",
   "execution_count": null,
   "metadata": {},
   "outputs": [],
   "source": [
    "# Present and Discuss your results here\n",
    "# ..."
   ]
  },
  {
   "cell_type": "markdown",
   "metadata": {},
   "source": [
    "### XGBoost \n",
    "\n",
    "* Use [XGBoost](https://www.kaggle.com/stuarthallows/using-xgboost-with-scikit-learn)."
   ]
  },
  {
   "cell_type": "code",
   "execution_count": null,
   "metadata": {},
   "outputs": [],
   "source": [
    "# Present and Discuss your results here\n",
    "# ..."
   ]
  },
  {
   "cell_type": "markdown",
   "metadata": {},
   "source": [
    "### Random Forests\n",
    "\n",
    "* Use [Random Forests](http://scikit-learn.org/stable/modules/ensemble.html#random-forests)."
   ]
  },
  {
   "cell_type": "code",
   "execution_count": null,
   "metadata": {},
   "outputs": [],
   "source": [
    "# Present and Discuss your results here\n",
    "# ..."
   ]
  },
  {
   "cell_type": "markdown",
   "metadata": {},
   "source": [
    "**References**"
   ]
  },
  {
   "cell_type": "markdown",
   "metadata": {},
   "source": [
    "[1] https://www.kaggle.com/serigne/stacked-regressions-top-4-on-leaderboard\n",
    "\n"
   ]
  }
 ],
 "metadata": {
  "kernelspec": {
   "display_name": "Python 3",
   "language": "python",
   "name": "python3"
  },
  "language_info": {
   "codemirror_mode": {
    "name": "ipython",
    "version": 3
   },
   "file_extension": ".py",
   "mimetype": "text/x-python",
   "name": "python",
   "nbconvert_exporter": "python",
   "pygments_lexer": "ipython3",
   "version": "3.7.6"
  }
 },
 "nbformat": 4,
 "nbformat_minor": 4
}
